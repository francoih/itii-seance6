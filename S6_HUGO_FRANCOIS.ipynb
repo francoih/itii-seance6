{
 "cells": [
  {
   "cell_type": "code",
   "execution_count": 48,
   "metadata": {},
   "outputs": [],
   "source": [
    "#Ex 1, Question 1 avec boucle while\n",
    "def integrale(f, a, b, n):\n",
    "    \n",
    "    integrale = 0\n",
    "    k=a;\n",
    "    while(k < b):\n",
    "        largeur = (b-a)/n\n",
    "        hauteur = f(a + k*(b-a)/n)\n",
    "        aire = largeur * hauteur\n",
    "        integrale += aire\n",
    "        k+=n\n",
    " \n",
    "    return integrale"
   ]
  },
  {
   "cell_type": "code",
   "execution_count": 53,
   "metadata": {},
   "outputs": [
    {
     "data": {
      "text/plain": [
       "(8.999909928015299e-06, 10001)"
      ]
     },
     "execution_count": 53,
     "metadata": {},
     "output_type": "execute_result"
    }
   ],
   "source": [
    "#Ex 1, Question 2 avec boucle while\n",
    "def integrale_precise(f, a, b, n0, precision):\n",
    "    val = integrale(f, a, b, n0)\n",
    "    val0 = None\n",
    "    while val0 is None or abs(val - val0) / val0 > precision:\n",
    "        val0 = val\n",
    "        n0 += 1\n",
    "        val = integrale(f, a, b, n0)\n",
    "    return val, n0\n",
    "\n",
    "integrale_precise(lambda x: x, 0.1, 1, 10, 1e-4)"
   ]
  },
  {
   "cell_type": "code",
   "execution_count": 51,
   "metadata": {},
   "outputs": [
    {
     "name": "stdout",
     "output_type": "stream",
     "text": [
      "7.501500076001311e+22\n"
     ]
    }
   ],
   "source": [
    "#Ex 1, Question 3\n",
    "\n",
    "f = lambda x : 3*x**3 + 2*x - 1\n",
    "print(integrale(f,0,10,0.001)) # Calcul de l'intégral donne 7590"
   ]
  },
  {
   "cell_type": "code",
   "execution_count": 50,
   "metadata": {},
   "outputs": [
    {
     "name": "stdout",
     "output_type": "stream",
     "text": [
      "98019899.49751785\n"
     ]
    }
   ],
   "source": [
    "#Ex 1, Question 4\n",
    "\n",
    "import math\n",
    "g = lambda x : math.cos(1/x)\n",
    "print(integrale(g,0.1,10,0.001))"
   ]
  },
  {
   "cell_type": "code",
   "execution_count": 39,
   "metadata": {},
   "outputs": [
    {
     "data": {
      "text/plain": [
       "0.55"
      ]
     },
     "execution_count": 39,
     "metadata": {},
     "output_type": "execute_result"
    }
   ],
   "source": [
    "#Ex 1, Question 1 avec boucle for\n",
    "\n",
    "def integrale(f, a, b, n):\n",
    "    somme = 0\n",
    "    h = float(b-a) / n\n",
    "    x = a\n",
    "    for i in range(0, n + 1):\n",
    "        somme += f(x) * h\n",
    "        x += h\n",
    "    return somme\n",
    "\n",
    "# On vérifie ave un cas simple.\n",
    "integrale(lambda x: x, 0, 1, 10)"
   ]
  },
  {
   "cell_type": "code",
   "execution_count": null,
   "metadata": {},
   "outputs": [],
   "source": [
    "#Ex 2, Question 1\n",
    "\n"
   ]
  },
  {
   "cell_type": "code",
   "execution_count": 81,
   "metadata": {},
   "outputs": [],
   "source": [
    "#Ex 2, Question 2\n",
    "\n",
    "def trapezes(f, a, b, N):\n",
    "     pas = (b-a) / N\n",
    "     x = a\n",
    "     somme = (f(a) + f(b)) / 2\n",
    "    \n",
    "     for _ in range(N-1):\n",
    "        x += pas\n",
    "        somme += f(x)\n",
    "     return somme / N"
   ]
  },
  {
   "cell_type": "code",
   "execution_count": 83,
   "metadata": {},
   "outputs": [
    {
     "data": {
      "text/plain": [
       "3.2005333280000072"
      ]
     },
     "execution_count": 83,
     "metadata": {},
     "output_type": "execute_result"
    }
   ],
   "source": [
    "trapezes(lambda x: x**4, 0, 2, 100)"
   ]
  },
  {
   "cell_type": "code",
   "execution_count": null,
   "metadata": {},
   "outputs": [],
   "source": [
    "#Ex 2, Question 3"
   ]
  }
 ],
 "metadata": {
  "kernelspec": {
   "display_name": "Python 3",
   "language": "python",
   "name": "python3"
  },
  "language_info": {
   "codemirror_mode": {
    "name": "ipython",
    "version": 3
   },
   "file_extension": ".py",
   "mimetype": "text/x-python",
   "name": "python",
   "nbconvert_exporter": "python",
   "pygments_lexer": "ipython3",
   "version": "3.8.3"
  }
 },
 "nbformat": 4,
 "nbformat_minor": 4
}
